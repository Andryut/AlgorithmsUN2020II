{
  "nbformat": 4,
  "nbformat_minor": 0,
  "metadata": {
    "colab": {
      "name": "lab-4.ipynb",
      "provenance": [],
      "collapsed_sections": [
        "Y1l9NsD-fFuE",
        "raWVSz9dkFnE",
        "-_pG_eAyfEyA",
        "HywO-qW7Ku3r"
      ]
    },
    "kernelspec": {
      "name": "python3",
      "display_name": "Python 3"
    }
  },
  "cells": [
    {
      "cell_type": "code",
      "metadata": {
        "id": "_gkVwrU_EK0Z",
        "colab_type": "code",
        "colab": {}
      },
      "source": [
        "import random as r\n",
        "import numpy as np\n",
        "import matplotlib.pyplot as plt"
      ],
      "execution_count": 1,
      "outputs": []
    },
    {
      "cell_type": "code",
      "metadata": {
        "id": "UmCo5ZdQcma5",
        "colab_type": "code",
        "colab": {}
      },
      "source": [
        "def print_histogram(hist, min, max):\n",
        "  plt.bar(list(range(min, max)), hist[min:max], align='center', width=0.9)\n",
        "  plt.xlabel('Number of cards')\n",
        "  plt.xticks(list(range(min, max)))\n",
        "  plt.title('Experimental distribution of cards to get 21')\n",
        "  plt.show()"
      ],
      "execution_count": 2,
      "outputs": []
    },
    {
      "cell_type": "code",
      "metadata": {
        "id": "UmFbqbU5bB0X",
        "colab_type": "code",
        "colab": {}
      },
      "source": [
        "def calculate_probability(cards, n, initial_sum=0):\n",
        "  count = 0\n",
        "  cards_distribution = [0]*11\n",
        "  min_distribution = 11\n",
        "  max_distribution = 1\n",
        "  for i in range(n):\n",
        "    cards_copy = cards.copy()\n",
        "    sum = initial_sum\n",
        "    cards_count = 0\n",
        "    while sum < 21:\n",
        "      choice = r.choice(cards_copy)\n",
        "      cards_copy.remove(choice)\n",
        "      sum += choice\n",
        "      cards_count += 1\n",
        "    if sum == 21:\n",
        "      min_distribution = cards_count if cards_count < min_distribution else min_distribution\n",
        "      max_distribution = cards_count if cards_count > max_distribution else max_distribution\n",
        "      cards_distribution[cards_count] += 1\n",
        "      count += 1\n",
        "  print_histogram(cards_distribution, min_distribution, max_distribution)\n",
        "  return count/n\n"
      ],
      "execution_count": 3,
      "outputs": []
    },
    {
      "cell_type": "code",
      "metadata": {
        "id": "jR2nCODrU9uR",
        "colab_type": "code",
        "colab": {}
      },
      "source": [
        "def compute_half_deck(cards):\n",
        "  cards=cards*4\n",
        "  l = len(cards)\n",
        "  cards.remove(7)\n",
        "  cards.remove(7)\n",
        "  cards.remove(5)\n",
        "  choices = []\n",
        "  for c in range(0, int(l/2) - 3):\n",
        "    choice = r.choice(cards)\n",
        "    choices.append(choice)\n",
        "    cards.remove(choice)\n",
        "  return cards;"
      ],
      "execution_count": 4,
      "outputs": []
    },
    {
      "cell_type": "markdown",
      "metadata": {
        "id": "kzZ9swODwQfU",
        "colab_type": "text"
      },
      "source": [
        "# 1. Calculate the probability of getting a 21 drawing cards sequentially from shuffled Spanish 48-deck with card values \n",
        "1. (a): Cards=[1,2,3,4,5,6,7,10,11,12]"
      ]
    },
    {
      "cell_type": "code",
      "metadata": {
        "id": "PUjgbGh8eh23",
        "colab_type": "code",
        "colab": {
          "base_uri": "https://localhost:8080/",
          "height": 312
        },
        "outputId": "661757d6-4d49-4305-df1c-6d0041b2b8c5"
      },
      "source": [
        "print(\"Probablity with spanish deck: \", calculate_probability(list(range(1,13))*4, n=100000000))"
      ],
      "execution_count": 5,
      "outputs": [
        {
          "output_type": "display_data",
          "data": {
            "image/png": "[encoded data removed]",
            "text/plain": [
              "<Figure size 432x288 with 1 Axes>"
            ]
          },
          "metadata": {
            "tags": [],
            "needs_background": "light"
          }
        },
        {
          "output_type": "stream",
          "text": [
            "Probablity with spanish deck:  0.15773797\n"
          ],
          "name": "stdout"
        }
      ]
    },
    {
      "cell_type": "markdown",
      "metadata": {
        "id": "dIzISsJ7fHhe",
        "colab_type": "text"
      },
      "source": [
        "1. (b): Cards=[1,2,3,4,5,6,7,10,11,12,13]\n"
      ]
    },
    {
      "cell_type": "code",
      "metadata": {
        "id": "CNIO2ie5fNDw",
        "colab_type": "code",
        "colab": {
          "base_uri": "https://localhost:8080/",
          "height": 312
        },
        "outputId": "f8595bfe-ce6e-4ddf-87a8-d1d17bc476f5"
      },
      "source": [
        "print(\"Probablity with poker deck: \",calculate_probability(list(range(1,14))*4,n=100000000))"
      ],
      "execution_count": 6,
      "outputs": [
        {
          "output_type": "display_data",
          "data": {
            "image/png": "[encoded data removed]",
            "text/plain": [
              "<Figure size 432x288 with 1 Axes>"
            ]
          },
          "metadata": {
            "tags": [],
            "needs_background": "light"
          }
        },
        {
          "output_type": "stream",
          "text": [
            "Probablity with poker deck:  0.14468838\n"
          ],
          "name": "stdout"
        }
      ]
    },
    {
      "cell_type": "markdown",
      "metadata": {
        "id": "Y1l9NsD-fFuE",
        "colab_type": "text"
      },
      "source": [
        "# 2. Calculate the probability of getting a 21 drawing cards sequentially from shuffled Spanish 48-deck with card values "
      ]
    },
    {
      "cell_type": "markdown",
      "metadata": {
        "colab_type": "text",
        "id": "RisLLYmwMkds"
      },
      "source": [
        "2 (a) Deck=[1,2,3,4,5,6,7,8,9,10,10,10]\n",
        "\n"
      ]
    },
    {
      "cell_type": "code",
      "metadata": {
        "id": "bc2NjmPzfo4k",
        "colab_type": "code",
        "colab": {
          "base_uri": "https://localhost:8080/",
          "height": 312
        },
        "outputId": "953c8375-58bf-4f37-e9c8-9391341a9f47"
      },
      "source": [
        "print(\"Probablity: \",calculate_probability([1,2,3,4,5,6,7,8,9,10,10,10]*4,n=100000000))"
      ],
      "execution_count": 7,
      "outputs": [
        {
          "output_type": "display_data",
          "data": {
            "image/png": "[encoded data removed]",
            "text/plain": [
              "<Figure size 432x288 with 1 Axes>"
            ]
          },
          "metadata": {
            "tags": [],
            "needs_background": "light"
          }
        },
        {
          "output_type": "stream",
          "text": [
            "Probablity:  0.14963348\n"
          ],
          "name": "stdout"
        }
      ]
    },
    {
      "cell_type": "markdown",
      "metadata": {
        "id": "tM0v7aRWgyKU",
        "colab_type": "text"
      },
      "source": [
        "2 (b) Deck=[1,2,3,4,5,6,7,8,9,10,10,10,10]"
      ]
    },
    {
      "cell_type": "code",
      "metadata": {
        "id": "6Z_bY_9Zg-Jl",
        "colab_type": "code",
        "colab": {
          "base_uri": "https://localhost:8080/",
          "height": 312
        },
        "outputId": "a378b7f9-6e3d-4556-ab2d-a8070e0e8482"
      },
      "source": [
        "print(\"Probablity: \",calculate_probability([1,2,3,4,5,6,7,8,9,10,10,10,10]*4,n=100000000))"
      ],
      "execution_count": 8,
      "outputs": [
        {
          "output_type": "display_data",
          "data": {
            "image/png": "[encoded data removed]",
            "text/plain": [
              "<Figure size 432x288 with 1 Axes>"
            ]
          },
          "metadata": {
            "tags": [],
            "needs_background": "light"
          }
        },
        {
          "output_type": "stream",
          "text": [
            "Probablity:  0.14014362\n"
          ],
          "name": "stdout"
        }
      ]
    },
    {
      "cell_type": "markdown",
      "metadata": {
        "id": "raWVSz9dkFnE",
        "colab_type": "text"
      },
      "source": [
        "# 3. Find remaining decks for Spanish and Poker card decks\n",
        "3 (a) Cards=[1,2,3,4,5,6,7,10,11,12]"
      ]
    },
    {
      "cell_type": "code",
      "metadata": {
        "id": "E40MIERUiVeP",
        "colab_type": "code",
        "colab": {
          "base_uri": "https://localhost:8080/",
          "height": 312
        },
        "outputId": "b88e2b5b-aca2-4d92-e7ed-878ab921890e"
      },
      "source": [
        "cards=compute_half_deck([1,2,3,4,5,6,7,8,9,10,11,12])\n",
        "print(\"Probablity: \", calculate_probability(cards, n=100000000, initial_sum=19))"
      ],
      "execution_count": 9,
      "outputs": [
        {
          "output_type": "display_data",
          "data": {
            "image/png": "[encoded data removed]",
            "text/plain": [
              "<Figure size 432x288 with 1 Axes>"
            ]
          },
          "metadata": {
            "tags": [],
            "needs_background": "light"
          }
        },
        {
          "output_type": "stream",
          "text": [
            "Probablity:  0.04526315\n"
          ],
          "name": "stdout"
        }
      ]
    },
    {
      "cell_type": "markdown",
      "metadata": {
        "id": "a__bUGV0kTCl",
        "colab_type": "text"
      },
      "source": [
        "3 (b) Cards=[1,2,3,4,5,6,7,10,11,12,13]"
      ]
    },
    {
      "cell_type": "code",
      "metadata": {
        "id": "3-ZewNSYjylE",
        "colab_type": "code",
        "colab": {
          "base_uri": "https://localhost:8080/",
          "height": 312
        },
        "outputId": "36ca1c6c-fad3-4dbf-d3b1-12acea161f7b"
      },
      "source": [
        "cards=compute_half_deck([1,2,3,4,5,6,7,8,9,10,11,12,13])\n",
        "print(\"Probablity: \", calculate_probability(cards, n=100000000, initial_sum=19))"
      ],
      "execution_count": 10,
      "outputs": [
        {
          "output_type": "display_data",
          "data": {
            "image/png": "[encoded data removed]",
            "text/plain": [
              "<Figure size 432x288 with 1 Axes>"
            ]
          },
          "metadata": {
            "tags": [],
            "needs_background": "light"
          }
        },
        {
          "output_type": "stream",
          "text": [
            "Probablity:  0.12460057\n"
          ],
          "name": "stdout"
        }
      ]
    },
    {
      "cell_type": "markdown",
      "metadata": {
        "id": "-_pG_eAyfEyA",
        "colab_type": "text"
      },
      "source": [
        "# 4. Find remaining decks for Spanish and Poker card decks"
      ]
    },
    {
      "cell_type": "markdown",
      "metadata": {
        "id": "HywO-qW7Ku3r",
        "colab_type": "text"
      },
      "source": [
        "# Hot Deck Probability - SPANISH & POKER\n",
        "**Anatically.**\n",
        "Given [7,7,5] the probability of getting 2, is:\n",
        "\n",
        "1.  Getting one card: 2\n",
        "2.   Getting two cards: 1, 1\n",
        "\n",
        "*   Probabilidad de sacar 2 con dos cartas 1:\n",
        "$ P_{(2)}$ = ${4}\\choose{2}$ / ${12}\\choose{2} $ \n",
        "*   Probabilidad de sacar 2 con una carta 2:\n",
        "$ P_{(2)} =  \\frac{4}{12}  $ \n",
        "*   Probabilidad total:\n",
        "$P_{(2)}= \\frac{4}{12} + \\frac{6}{66} = 0.424242$ \n"
      ]
    },
    {
      "cell_type": "markdown",
      "metadata": {
        "id": "n5EOq_E2jTTH",
        "colab_type": "text"
      },
      "source": [
        "# Cold Deck Probability - SPANISH & POKER\n",
        "**Anatically.**\n",
        "Given [7,7,5] the probability of getting 2, is:\n",
        "\n",
        "1.  Getting one card: 2\n",
        "2.   Getting two cards: 1, 1\n",
        "\n",
        "*   Probabilidad de sacar 2 con dos cartas 1:\n",
        "$ P_{(2)} = \\frac{0}{12}$ \n",
        "*   Probabilidad de sacar 2 con una carta 2:\n",
        "$ P_{(2)} = \\frac{0}{12}$ \n",
        "*   Probabilidad total:\n",
        "$ P_{(2)} = \\frac{0}{12}$ \n"
      ]
    },
    {
      "cell_type": "code",
      "metadata": {
        "id": "L7usWFYGWreD",
        "colab_type": "code",
        "colab": {}
      },
      "source": [
        "hot_deck = [1, 2, 3]*4\n",
        "cold_deck = [10,11,12]*4"
      ],
      "execution_count": 11,
      "outputs": []
    },
    {
      "cell_type": "code",
      "metadata": {
        "id": "sNCtXnUmW6ij",
        "colab_type": "code",
        "colab": {
          "base_uri": "https://localhost:8080/",
          "height": 312
        },
        "outputId": "b073f9bd-23ca-4c8a-850d-83e32c92dd72"
      },
      "source": [
        "print(\"Probablity of the hot deck: \", calculate_probability(hot_deck, n=100000000, initial_sum=19))"
      ],
      "execution_count": 12,
      "outputs": [
        {
          "output_type": "display_data",
          "data": {
            "image/png": "[encoded data removed]",
            "text/plain": [
              "<Figure size 432x288 with 1 Axes>"
            ]
          },
          "metadata": {
            "tags": [],
            "needs_background": "light"
          }
        },
        {
          "output_type": "stream",
          "text": [
            "Probablity of the hot deck:  0.42432056\n"
          ],
          "name": "stdout"
        }
      ]
    },
    {
      "cell_type": "code",
      "metadata": {
        "id": "eGsi4smdXE5k",
        "colab_type": "code",
        "colab": {
          "base_uri": "https://localhost:8080/",
          "height": 295
        },
        "outputId": "0ca2eb8b-5511-4e3e-858b-850a06ea83f0"
      },
      "source": [
        "print(\"Probablity of the cold deck: \", calculate_probability(cold_deck, n=100000000, initial_sum=19))"
      ],
      "execution_count": 13,
      "outputs": [
        {
          "output_type": "display_data",
          "data": {
            "image/png": "[encoded data removed]",
            "text/plain": [
              "<Figure size 432x288 with 1 Axes>"
            ]
          },
          "metadata": {
            "tags": [],
            "needs_background": "light"
          }
        },
        {
          "output_type": "stream",
          "text": [
            "Probablity of the cold deck:  0.0\n"
          ],
          "name": "stdout"
        }
      ]
    },
    {
      "cell_type": "code",
      "metadata": {
        "id": "8QJbJoiDXx32",
        "colab_type": "code",
        "colab": {}
      },
      "source": [
        "hot_deck = [1,2,3]*4\n",
        "cold_deck = [11,12,13]*4"
      ],
      "execution_count": 14,
      "outputs": []
    },
    {
      "cell_type": "code",
      "metadata": {
        "id": "hxDemGYdX453",
        "colab_type": "code",
        "colab": {
          "base_uri": "https://localhost:8080/",
          "height": 312
        },
        "outputId": "fd204ebb-6c0e-4552-eec2-f751c65dd665"
      },
      "source": [
        "print(\"Probablity of the hot deck: \", calculate_probability(hot_deck, n=100000000, initial_sum=19))"
      ],
      "execution_count": 15,
      "outputs": [
        {
          "output_type": "display_data",
          "data": {
            "image/png": "[encoded data removed]",
            "text/plain": [
              "<Figure size 432x288 with 1 Axes>"
            ]
          },
          "metadata": {
            "tags": [],
            "needs_background": "light"
          }
        },
        {
          "output_type": "stream",
          "text": [
            "Probablity of the hot deck:  0.4242047\n"
          ],
          "name": "stdout"
        }
      ]
    },
    {
      "cell_type": "code",
      "metadata": {
        "id": "76NDT9AjX6zv",
        "colab_type": "code",
        "colab": {
          "base_uri": "https://localhost:8080/",
          "height": 295
        },
        "outputId": "95a35f26-4745-44d5-e706-7a025a9b1577"
      },
      "source": [
        "print(\"Probablity of the cold deck: \", calculate_probability(cold_deck, n=100000000, initial_sum=19))"
      ],
      "execution_count": 16,
      "outputs": [
        {
          "output_type": "display_data",
          "data": {
            "image/png": "[encoded data removed]",
            "text/plain": [
              "<Figure size 432x288 with 1 Axes>"
            ]
          },
          "metadata": {
            "tags": [],
            "needs_background": "light"
          }
        },
        {
          "output_type": "stream",
          "text": [
            "Probablity of the cold deck:  0.0\n"
          ],
          "name": "stdout"
        }
      ]
    },
    {
      "cell_type": "markdown",
      "metadata": {
        "id": "zm8t2v_l89Zy",
        "colab_type": "text"
      },
      "source": [
        "#5. Ben goes to Vegas\n",
        "\n",
        "> Bloque con sangría\n",
        "\n",
        "\n",
        "What is the estimated amount of money that Ben wins or losses on a weekend estimated with 10 million simulations using both the Spanish and Poker card decks?\n"
      ]
    },
    {
      "cell_type": "markdown",
      "metadata": {
        "id": "-X3eK4JUeXMd",
        "colab_type": "text"
      },
      "source": [
        "**Analisis**\n",
        "* It is 30 hours of game every weekend. 3 * 10 = 30 hours\n",
        "* It is equivalent of 1800 minutes. 30 * 60 = 1800 minutes\n",
        "* It is equivalent of 600 games every weekend (the three days). 1800 minutes / 3 minutes per game = 600 games"
      ]
    },
    {
      "cell_type": "code",
      "metadata": {
        "id": "VmwviY64ly4p",
        "colab_type": "code",
        "colab": {}
      },
      "source": [
        "def bet_play(cards, games, initial_sum):\n",
        "  #Cards data\n",
        "  count = 0\n",
        "  cards_distribution = []\n",
        "  min_distribution = 11\n",
        "  max_distribution = 1\n",
        "  average_cards = [] \n",
        "\n",
        "  #Money data\n",
        "  money_bet = 1000\n",
        "  money_earned = 0 \n",
        "\n",
        "  for j in range(n): #Simulating 10 million times\n",
        "    cards_distribution = [] #Every weekend, the cards distribution is resetted\n",
        "    count = 0 #How many times you get 21 in a weekend\n",
        "    for i in range(games): #This loop represents 600 games, which is 1 weekend of gambling\n",
        "      cards_copy = cards.copy()\n",
        "      sum_cards = initial_sum\n",
        "      cards_count = 0\n",
        "      while sum_cards < 21:\n",
        "        choice = r.choice(cards_copy)\n",
        "        cards_copy.remove(choice)\n",
        "        sum_cards += choice\n",
        "        cards_count += 1\n",
        "      if sum_cards == 21:\n",
        "        min_distribution = cards_count if cards_count < min_distribution else min_distribution\n",
        "        max_distribution = cards_count if cards_count > max_distribution else max_distribution\n",
        "        cards_distribution.append(cards_count)\n",
        "        count += 1\n",
        "        money_earned += (money_bet * 12) #Assuming you earn three times what you bet\n",
        "    if count != 0:\n",
        "      average_cards.append( sum(cards_distribution) / count ) #Every weekend you get average cards. This accumulates the averages.\n",
        "    else:\n",
        "      average_cards.append(0)\n",
        "  #print_histogram(cards_distribution, min_distribution, max_distribution)\n",
        "  \n",
        "  return (money_earned / n, average_cards ) #Returns (average of money earned on a weekend, distribution of the average of cards to get 21)"
      ],
      "execution_count": 17,
      "outputs": []
    },
    {
      "cell_type": "code",
      "metadata": {
        "id": "paUm-DrYls7P",
        "colab_type": "code",
        "colab": {}
      },
      "source": [
        "def hist(datos,xlabel,ylabel, color): \n",
        "  plt.hist(datos, bins='auto', facecolor=color)\n",
        "  plt.xlabel = xlabel\n",
        "  plt.ylabel = ylabel\n",
        "  plt.show()"
      ],
      "execution_count": 18,
      "outputs": []
    },
    {
      "cell_type": "markdown",
      "metadata": {
        "id": "-evOA8dcScYO",
        "colab_type": "text"
      },
      "source": [
        "**Hot deck - SPANISH & POKER**"
      ]
    },
    {
      "cell_type": "code",
      "metadata": {
        "id": "4bzSrPg5mHL2",
        "colab_type": "code",
        "colab": {}
      },
      "source": [
        "#Data\n",
        "n = 10000\n",
        "cards = [1, 1, 2, 3, 3, 3, 3, 4, 4, 4, 4, 5] #Assumoing we have a hot deck\n",
        "initial_sum = 19 # Having [7, 7, 5]\n",
        "games_per_weekend = 600\n",
        "money_investedHot = games_per_weekend * 1000"
      ],
      "execution_count": 19,
      "outputs": []
    },
    {
      "cell_type": "code",
      "metadata": {
        "id": "9xoUs1M2hXXB",
        "colab_type": "code",
        "colab": {
          "base_uri": "https://localhost:8080/",
          "height": 85
        },
        "outputId": "fc45c8ac-d875-4499-95b5-7a62e05a0597"
      },
      "source": [
        "#Results\n",
        "simulation = bet_play(cards, games_per_weekend, initial_sum) \n",
        "money_earnedHot = simulation[0]\n",
        "distribution = simulation[1]\n",
        "print(\"Money Invested: %d\\nMoney Earned: %d \\nDifference: %d\"%(money_investedHot, money_earnedHot,  money_earnedHot - money_investedHot))\n",
        "print(\"Average cards to get 21: \", sum(distribution) / len(distribution) ) #Sums all averages, divides into number of them. This is:  the average of the averages of cards to get 21"
      ],
      "execution_count": 20,
      "outputs": [
        {
          "output_type": "stream",
          "text": [
            "Money Invested: 600000\n",
            "Money Earned: 709569 \n",
            "Difference: 109569\n",
            "Average cards to get 21:  1.153143295386031\n"
          ],
          "name": "stdout"
        }
      ]
    },
    {
      "cell_type": "code",
      "metadata": {
        "id": "2T277pK5sQjj",
        "colab_type": "code",
        "colab": {
          "base_uri": "https://localhost:8080/",
          "height": 265
        },
        "outputId": "dda05e3e-38e4-43ae-e76d-f4fd289904c2"
      },
      "source": [
        "#Histogram hot deck\n",
        "xlabel='Número de cartas obtenidas para obtener 21'\n",
        "ylabel='Cantidad de repeticiones'\n",
        "color='blue'\n",
        "hist(distribution, xlabel, ylabel, color)"
      ],
      "execution_count": 21,
      "outputs": [
        {
          "output_type": "display_data",
          "data": {
            "image/png": "[encoded data removed]",
            "text/plain": [
              "<Figure size 432x288 with 1 Axes>"
            ]
          },
          "metadata": {
            "tags": [],
            "needs_background": "light"
          }
        }
      ]
    },
    {
      "cell_type": "markdown",
      "metadata": {
        "id": "ISiF0EJZSqoi",
        "colab_type": "text"
      },
      "source": [
        "**Cold deck SPANISH**"
      ]
    },
    {
      "cell_type": "code",
      "metadata": {
        "id": "1rnzq4ryWYlM",
        "colab_type": "code",
        "colab": {}
      },
      "source": [
        "#Data\n",
        "n = 10000\n",
        "cards = [1, 2, 3, 4, 5, 6, 7, 8, 9, 10, 11, 12] * 4 #Assuming we have a hot deck\n",
        "initial_sum = 0 # Having nothing\n",
        "games_per_weekend = 600\n",
        "money_investedCold = games_per_weekend * 10"
      ],
      "execution_count": 22,
      "outputs": []
    },
    {
      "cell_type": "code",
      "metadata": {
        "id": "Qk42bJjvWhyR",
        "colab_type": "code",
        "colab": {
          "base_uri": "https://localhost:8080/",
          "height": 85
        },
        "outputId": "d16b2253-45c6-44c6-8c78-024720eab1fb"
      },
      "source": [
        "#Results\n",
        "simulation = bet_play(cards, games_per_weekend, initial_sum) \n",
        "money_earnedCold = simulation[0]\n",
        "distribution = simulation[1]\n",
        "print(\"Money Invested: %d\\nMoney Earned: %d \\nDifference: %d\"%(money_investedCold, money_earnedCold,  money_earnedCold - money_investedCold))\n",
        "print(\"Average cards to get 21: \", sum(distribution) / len(distribution) ) #Sums all averages, divides into number of them. This is:  the average of the averages of cards to get 21"
      ],
      "execution_count": 23,
      "outputs": [
        {
          "output_type": "stream",
          "text": [
            "Money Invested: 6000\n",
            "Money Earned: 1135465 \n",
            "Difference: 1129465\n",
            "Average cards to get 21:  3.4153666589270215\n"
          ],
          "name": "stdout"
        }
      ]
    },
    {
      "cell_type": "code",
      "metadata": {
        "id": "6vk-hou6dqOD",
        "colab_type": "code",
        "colab": {
          "base_uri": "https://localhost:8080/",
          "height": 265
        },
        "outputId": "bc9fce96-d216-49ac-ad2c-71a59b5d94e0"
      },
      "source": [
        "#Histogram cold deck\n",
        "xlabel='Número de cartas obtenidas para obtener 21'\n",
        "ylabel='Cantidad de repeticiones'\n",
        "color='blue'\n",
        "hist(distribution, xlabel, ylabel, color)"
      ],
      "execution_count": 24,
      "outputs": [
        {
          "output_type": "display_data",
          "data": {
            "image/png": "[encoded data removed]",
            "text/plain": [
              "<Figure size 432x288 with 1 Axes>"
            ]
          },
          "metadata": {
            "tags": [],
            "needs_background": "light"
          }
        }
      ]
    },
    {
      "cell_type": "markdown",
      "metadata": {
        "id": "G4eMgJZXr8zC",
        "colab_type": "text"
      },
      "source": [
        "**Cold deck POKER**"
      ]
    },
    {
      "cell_type": "code",
      "metadata": {
        "id": "QjftOempspTs",
        "colab_type": "code",
        "colab": {}
      },
      "source": [
        "#Data\n",
        "n = 10000\n",
        "cards = [1, 2, 3, 4, 5, 6, 7, 8, 9, 10, 11, 12, 13] * 4 #Assuming we have a hot deck\n",
        "initial_sum = 0 # Having nothing\n",
        "games_per_weekend = 600\n",
        "money_investedCold = games_per_weekend * 10"
      ],
      "execution_count": 25,
      "outputs": []
    },
    {
      "cell_type": "code",
      "metadata": {
        "id": "77Im0HHMswkT",
        "colab_type": "code",
        "colab": {
          "base_uri": "https://localhost:8080/",
          "height": 85
        },
        "outputId": "7acbd6b2-2bbc-4dd3-b07a-b898b359876a"
      },
      "source": [
        "#Results\n",
        "simulation = bet_play(cards, games_per_weekend, initial_sum) \n",
        "money_earnedCold = simulation[0]\n",
        "distribution = simulation[1]\n",
        "print(\"Money Invested: %d\\nMoney Earned: %d \\nDifference: %d\"%(money_investedCold, money_earnedCold,  money_earnedCold - money_investedCold))\n",
        "print(\"Average cards to get 21: \", sum(distribution) / len(distribution) ) #Sums all averages, divides into number of them. This is:  the average of the averages of cards to get 21"
      ],
      "execution_count": 26,
      "outputs": [
        {
          "output_type": "stream",
          "text": [
            "Money Invested: 6000\n",
            "Money Earned: 1043031 \n",
            "Difference: 1037031\n",
            "Average cards to get 21:  3.2165181594155636\n"
          ],
          "name": "stdout"
        }
      ]
    },
    {
      "cell_type": "code",
      "metadata": {
        "id": "1rVy4FDitBJ1",
        "colab_type": "code",
        "colab": {
          "base_uri": "https://localhost:8080/",
          "height": 265
        },
        "outputId": "ca2a9eff-8d23-4dfd-bec7-d4dba172891c"
      },
      "source": [
        "#Histogram cold deck\n",
        "xlabel='Número de cartas obtenidas para obtener 21'\n",
        "ylabel='Cantidad de repeticiones'\n",
        "color='blue'\n",
        "hist(distribution, xlabel, ylabel, color)"
      ],
      "execution_count": 27,
      "outputs": [
        {
          "output_type": "display_data",
          "data": {
            "image/png": "[encoded data removed]",
            "text/plain": [
              "<Figure size 432x288 with 1 Axes>"
            ]
          },
          "metadata": {
            "tags": [],
            "needs_background": "light"
          }
        }
      ]
    },
    {
      "cell_type": "markdown",
      "metadata": {
        "id": "lS3PEkF2iFRS",
        "colab_type": "text"
      },
      "source": [
        "**Summary**\n",
        "Net money earned"
      ]
    },
    {
      "cell_type": "code",
      "metadata": {
        "id": "dgvcivcsiDRL",
        "colab_type": "code",
        "colab": {
          "base_uri": "https://localhost:8080/",
          "height": 34
        },
        "outputId": "88e8eefb-15a7-4462-fedd-40f63e38b007"
      },
      "source": [
        "#Hot decks and cold decks\n",
        "totalAmountEarned = money_earnedHot + money_earnedCold\n",
        "totalInvested = money_investedHot + money_investedCold\n",
        "net = totalAmountEarned - totalInvested\n",
        "print(\"Net money Ben earned: $\", net)"
      ],
      "execution_count": 28,
      "outputs": [
        {
          "output_type": "stream",
          "text": [
            "Net money Ben earned: $ 1146601.2\n"
          ],
          "name": "stdout"
        }
      ]
    },
    {
      "cell_type": "markdown",
      "metadata": {
        "id": "maZUDRfZlxuu",
        "colab_type": "text"
      },
      "source": [
        "**Results**\n",
        "\n",
        "\n",
        "*   Money Invested: $1000 per game on hot decks\n",
        "*   Money Earned on 1 weekend\n",
        "*   Earnning: Difference between invested and earned\n",
        "\n"
      ]
    },
    {
      "cell_type": "markdown",
      "metadata": {
        "id": "GVqJCMHciwJf",
        "colab_type": "text"
      },
      "source": [
        "# 6. Extra credits"
      ]
    },
    {
      "cell_type": "code",
      "metadata": {
        "id": "bL3GHGNFxN3Q",
        "colab_type": "code",
        "colab": {}
      },
      "source": [
        "#Data\n",
        "n = 10000\n",
        "initial_sum = 19\n",
        "games_per_weekend = 600\n",
        "money_investedCold = games_per_weekend * 1000"
      ],
      "execution_count": 29,
      "outputs": []
    },
    {
      "cell_type": "code",
      "metadata": {
        "id": "86D4hENBxHbP",
        "colab_type": "code",
        "colab": {
          "base_uri": "https://localhost:8080/",
          "height": 333
        },
        "outputId": "18862463-123b-4c5d-d5a6-1baf85ceb4a3"
      },
      "source": [
        "# Hot deck for 8 cards\n",
        "cards = [1,2]*4\n",
        "#Results\n",
        "simulation = bet_play(cards, games_per_weekend, initial_sum) \n",
        "money_earnedCold = simulation[0]\n",
        "distribution = simulation[1]\n",
        "print(\"Money Invested: %d\\nMoney Earned: %d \\nDifference: %d\"%(money_investedCold, money_earnedCold,  money_earnedCold - money_investedCold))\n",
        "print(\"Average cards to get 21: \", sum(distribution) / len(distribution) ) #Sums all averages, divides into number of them. This is:  the average of the averages of cards to get 21\n",
        "#Histogram cold deck\n",
        "xlabel='Número de cartas obtenidas para obtener 21'\n",
        "ylabel='Cantidad de repeticiones'\n",
        "color='blue'\n",
        "hist(distribution, xlabel, ylabel, color)"
      ],
      "execution_count": 30,
      "outputs": [
        {
          "output_type": "stream",
          "text": [
            "Money Invested: 600000\n",
            "Money Earned: 5142295 \n",
            "Difference: 4542295\n",
            "Average cards to get 21:  1.299731399983659\n"
          ],
          "name": "stdout"
        },
        {
          "output_type": "display_data",
          "data": {
            "image/png": "[encoded data removed]",
            "text/plain": [
              "<Figure size 432x288 with 1 Axes>"
            ]
          },
          "metadata": {
            "tags": [],
            "needs_background": "light"
          }
        }
      ]
    },
    {
      "cell_type": "code",
      "metadata": {
        "id": "t-LD-H2ZcVA7",
        "colab_type": "code",
        "colab": {
          "base_uri": "https://localhost:8080/",
          "height": 333
        },
        "outputId": "c072bc2e-a3a2-4c93-e6c9-12b7f61d638e"
      },
      "source": [
        "# Hot deck for 10 cards\n",
        "cards = [1,2]*4 + [3,3]\n",
        "#Results\n",
        "simulation = bet_play(cards, games_per_weekend, initial_sum) \n",
        "money_earnedCold = simulation[0]\n",
        "distribution = simulation[1]\n",
        "print(\"Money Invested: %d\\nMoney Earned: %d \\nDifference: %d\"%(money_investedCold, money_earnedCold,  money_earnedCold - money_investedCold))\n",
        "print(\"Average cards to get 21: \", sum(distribution) / len(distribution) ) #Sums all averages, divides into number of them. This is:  the average of the averages of cards to get 21\n",
        "#Histogram cold deck\n",
        "xlabel='Número de cartas obtenidas para obtener 21'\n",
        "ylabel='Cantidad de repeticiones'\n",
        "color='blue'\n",
        "hist(distribution, xlabel, ylabel, color)"
      ],
      "execution_count": 31,
      "outputs": [
        {
          "output_type": "stream",
          "text": [
            "Money Invested: 600000\n",
            "Money Earned: 3841935 \n",
            "Difference: 3241935\n",
            "Average cards to get 21:  1.2501300994478806\n"
          ],
          "name": "stdout"
        },
        {
          "output_type": "display_data",
          "data": {
            "image/png": "[encoded data removed]",
            "text/plain": [
              "<Figure size 432x288 with 1 Axes>"
            ]
          },
          "metadata": {
            "tags": [],
            "needs_background": "light"
          }
        }
      ]
    },
    {
      "cell_type": "code",
      "metadata": {
        "id": "JdN4LtZ8cx7o",
        "colab_type": "code",
        "colab": {
          "base_uri": "https://localhost:8080/",
          "height": 333
        },
        "outputId": "63bc55e0-fd7a-4e31-c433-f0e5459776a1"
      },
      "source": [
        "# Hot deck for 12 cards\n",
        "cards = [1,2]*4 + [3,3]\n",
        "#Results\n",
        "simulation = bet_play(cards, games_per_weekend, initial_sum) \n",
        "money_earnedCold = simulation[0]\n",
        "distribution = simulation[1]\n",
        "print(\"Money Invested: %d\\nMoney Earned: %d \\nDifference: %d\"%(money_investedCold, money_earnedCold,  money_earnedCold - money_investedCold))\n",
        "print(\"Average cards to get 21: \", sum(distribution) / len(distribution) ) #Sums all averages, divides into number of them. This is:  the average of the averages of cards to get 21\n",
        "#Histogram cold deck\n",
        "xlabel='Número de cartas obtenidas para obtener 21'\n",
        "ylabel='Cantidad de repeticiones'\n",
        "color='blue'\n",
        "hist(distribution, xlabel, ylabel, color)"
      ],
      "execution_count": 32,
      "outputs": [
        {
          "output_type": "stream",
          "text": [
            "Money Invested: 600000\n",
            "Money Earned: 3841753 \n",
            "Difference: 3241753\n",
            "Average cards to get 21:  1.2502441319690072\n"
          ],
          "name": "stdout"
        },
        {
          "output_type": "display_data",
          "data": {
            "image/png": "[encoded data removed]",
            "text/plain": [
              "<Figure size 432x288 with 1 Axes>"
            ]
          },
          "metadata": {
            "tags": [],
            "needs_background": "light"
          }
        }
      ]
    }
  ]
}