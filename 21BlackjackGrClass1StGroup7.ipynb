{
  "nbformat": 4,
  "nbformat_minor": 0,
  "metadata": {
    "colab": {
      "name": "lab-4.ipynb",
      "provenance": [],
      "collapsed_sections": [
        "kzZ9swODwQfU",
        "Y1l9NsD-fFuE",
        "raWVSz9dkFnE",
        "-_pG_eAyfEyA",
        "HywO-qW7Ku3r"
      ]
    },
    "kernelspec": {
      "name": "python3",
      "display_name": "Python 3"
    }
  },
  "cells": [
    {
      "cell_type": "code",
      "metadata": {
        "id": "_gkVwrU_EK0Z",
        "colab_type": "code",
        "colab": {}
      },
      "source": [
        "import random as r\n",
        "import numpy as np\n",
        "import matplotlib.pyplot as plt"
      ],
      "execution_count": 1,
      "outputs": []
    },
    {
      "cell_type": "code",
      "metadata": {
        "id": "UmCo5ZdQcma5",
        "colab_type": "code",
        "colab": {}
      },
      "source": [
        "def print_histogram(hist, min, max):\n",
        "  plt.bar(list(range(min, max)), hist[min:max], align='center', width=0.9)\n",
        "  plt.xlabel('Number of cards')\n",
        "  plt.xticks(list(range(min, max)))\n",
        "  plt.title('Experimental distribution of cards to get 21')\n",
        "  plt.show()"
      ],
      "execution_count": 2,
      "outputs": []
    },
    {
      "cell_type": "code",
      "metadata": {
        "id": "UmFbqbU5bB0X",
        "colab_type": "code",
        "colab": {}
      },
      "source": [
        "def calculate_probability(cards, n, initial_sum=0):\n",
        "  count = 0\n",
        "  cards_distribution = [0]*11\n",
        "  min_distribution = 11\n",
        "  max_distribution = 1\n",
        "  for i in range(n):\n",
        "    cards_copy = cards.copy()\n",
        "    sum = initial_sum\n",
        "    cards_count = 0\n",
        "    while sum < 21:\n",
        "      choice = r.choice(cards_copy)\n",
        "      cards_copy.remove(choice)\n",
        "      sum += choice\n",
        "      cards_count += 1\n",
        "    if sum == 21:\n",
        "      min_distribution = cards_count if cards_count < min_distribution else min_distribution\n",
        "      max_distribution = cards_count if cards_count > max_distribution else max_distribution\n",
        "      cards_distribution[cards_count] += 1\n",
        "      count += 1\n",
        "  print_histogram(cards_distribution, min_distribution, max_distribution)\n",
        "  return count/n\n"
      ],
      "execution_count": 3,
      "outputs": []
    },
    {
      "cell_type": "code",
      "metadata": {
        "id": "jR2nCODrU9uR",
        "colab_type": "code",
        "colab": {}
      },
      "source": [
        "def compute_half_deck(cards):\n",
        "  cards=cards*4\n",
        "  l = len(cards)\n",
        "  cards.remove(7)\n",
        "  cards.remove(7)\n",
        "  cards.remove(5)\n",
        "  choices = []\n",
        "  for c in range(0, int(l/2) - 3):\n",
        "    choice = r.choice(cards)\n",
        "    choices.append(choice)\n",
        "    cards.remove(choice)\n",
        "  return cards;"
      ],
      "execution_count": 4,
      "outputs": []
    },
    {
      "cell_type": "markdown",
      "metadata": {
        "id": "kzZ9swODwQfU",
        "colab_type": "text"
      },
      "source": [
        "# 1. Calculate the probability of getting a 21 drawing cards sequentially from shuffled Spanish 48-deck with card values \n",
        "1. (a): Cards=[1,2,3,4,5,6,7,10,11,12]"
      ]
    },
    {
      "cell_type": "code",
      "metadata": {
        "id": "PUjgbGh8eh23",
        "colab_type": "code",
        "colab": {
          "base_uri": "https://localhost:8080/",
          "height": 312
        },
        "outputId": "424635e5-287f-4e7e-9648-2155fbdb555a"
      },
      "source": [
        "print(\"Probablity with spanish deck: \", calculate_probability(list(range(1,13))*4, n=100000000))"
      ],
      "execution_count": 5,
      "outputs": [
        {
          "output_type": "display_data",
          "data": {
            "image/png": "[encoded data removed]",
            "text/plain": [
              "<Figure size 432x288 with 1 Axes>"
            ]
          },
          "metadata": {
            "tags": [],
            "needs_background": "light"
          }
        },
        {
          "output_type": "stream",
          "text": [
            "Probablity with spanish deck:  0.15777693\n"
          ],
          "name": "stdout"
        }
      ]
    },
    {
      "cell_type": "markdown",
      "metadata": {
        "id": "dIzISsJ7fHhe",
        "colab_type": "text"
      },
      "source": [
        "1. (b): Cards=[1,2,3,4,5,6,7,10,11,12,13]\n"
      ]
    },
    {
      "cell_type": "code",
      "metadata": {
        "id": "CNIO2ie5fNDw",
        "colab_type": "code",
        "colab": {
          "base_uri": "https://localhost:8080/",
          "height": 312
        },
        "outputId": "268f916e-70c0-426f-94e5-06386683ea6e"
      },
      "source": [
        "print(\"Probablity with poker deck: \",calculate_probability(list(range(1,14))*4,n=100000000))"
      ],
      "execution_count": 6,
      "outputs": [
        {
          "output_type": "display_data",
          "data": {
            "image/png": "[encoded data removed]",
            "text/plain": [
              "<Figure size 432x288 with 1 Axes>"
            ]
          },
          "metadata": {
            "tags": [],
            "needs_background": "light"
          }
        },
        {
          "output_type": "stream",
          "text": [
            "Probablity with poker deck:  0.14473788\n"
          ],
          "name": "stdout"
        }
      ]
    },
    {
      "cell_type": "markdown",
      "metadata": {
        "id": "Y1l9NsD-fFuE",
        "colab_type": "text"
      },
      "source": [
        "# 2. Calculate the probability of getting a 21 drawing cards sequentially from shuffled Spanish 48-deck with card values "
      ]
    },
    {
      "cell_type": "markdown",
      "metadata": {
        "colab_type": "text",
        "id": "RisLLYmwMkds"
      },
      "source": [
        "2 (a) Deck=[1,2,3,4,5,6,7,8,9,10,10,10]\n",
        "\n"
      ]
    },
    {
      "cell_type": "code",
      "metadata": {
        "id": "bc2NjmPzfo4k",
        "colab_type": "code",
        "colab": {
          "base_uri": "https://localhost:8080/",
          "height": 312
        },
        "outputId": "62553458-aa3b-4419-bb58-dc0631e6893c"
      },
      "source": [
        "print(\"Probablity: \",calculate_probability([1,2,3,4,5,6,7,8,9,10,10,10]*4,n=100000000))"
      ],
      "execution_count": 7,
      "outputs": [
        {
          "output_type": "display_data",
          "data": {
            "image/png": "[encoded data removed]",
            "text/plain": [
              "<Figure size 432x288 with 1 Axes>"
            ]
          },
          "metadata": {
            "tags": [],
            "needs_background": "light"
          }
        },
        {
          "output_type": "stream",
          "text": [
            "Probablity:  0.1496363\n"
          ],
          "name": "stdout"
        }
      ]
    },
    {
      "cell_type": "markdown",
      "metadata": {
        "id": "tM0v7aRWgyKU",
        "colab_type": "text"
      },
      "source": [
        "2 (b) Deck=[1,2,3,4,5,6,7,8,9,10,10,10,10]"
      ]
    },
    {
      "cell_type": "code",
      "metadata": {
        "id": "6Z_bY_9Zg-Jl",
        "colab_type": "code",
        "colab": {
          "base_uri": "https://localhost:8080/",
          "height": 312
        },
        "outputId": "03440936-b387-4e2f-c57b-cbff4b647018"
      },
      "source": [
        "print(\"Probablity: \",calculate_probability([1,2,3,4,5,6,7,8,9,10,10,10,10]*4,n=100000000))"
      ],
      "execution_count": 8,
      "outputs": [
        {
          "output_type": "display_data",
          "data": {
            "image/png": "[encoded data removed]",
            "text/plain": [
              "<Figure size 432x288 with 1 Axes>"
            ]
          },
          "metadata": {
            "tags": [],
            "needs_background": "light"
          }
        },
        {
          "output_type": "stream",
          "text": [
            "Probablity:  0.14012835\n"
          ],
          "name": "stdout"
        }
      ]
    },
    {
      "cell_type": "markdown",
      "metadata": {
        "id": "raWVSz9dkFnE",
        "colab_type": "text"
      },
      "source": [
        "# 3. Find remaining decks for Spanish and Poker card decks\n",
        "3 (a) Cards=[1,2,3,4,5,6,7,10,11,12]"
      ]
    },
    {
      "cell_type": "code",
      "metadata": {
        "id": "E40MIERUiVeP",
        "colab_type": "code",
        "colab": {
          "base_uri": "https://localhost:8080/",
          "height": 0
        },
        "outputId": "521c32c2-514a-4dfd-d4a9-c09493d2cc47"
      },
      "source": [
        "cards=compute_half_deck([1,2,3,4,5,6,7,8,9,10,11,12])\n",
        "print(\"Probablity: \", calculate_probability(cards, n=100000000, initial_sum=19))"
      ],
      "execution_count": 9,
      "outputs": [
        {
          "output_type": "display_data",
          "data": {
            "image/png": "[encoded data removed]",
            "text/plain": [
              "<Figure size 432x288 with 1 Axes>"
            ]
          },
          "metadata": {
            "tags": [],
            "needs_background": "light"
          }
        },
        {
          "output_type": "stream",
          "text": [
            "Probablity:  0.08697812\n"
          ],
          "name": "stdout"
        }
      ]
    },
    {
      "cell_type": "markdown",
      "metadata": {
        "id": "a__bUGV0kTCl",
        "colab_type": "text"
      },
      "source": [
        "3 (b) Cards=[1,2,3,4,5,6,7,10,11,12,13]"
      ]
    },
    {
      "cell_type": "code",
      "metadata": {
        "id": "3-ZewNSYjylE",
        "colab_type": "code",
        "colab": {
          "base_uri": "https://localhost:8080/",
          "height": 0
        },
        "outputId": "71e1f751-a946-4dfc-915d-1aa682925974"
      },
      "source": [
        "cards=compute_half_deck([1,2,3,4,5,6,7,8,9,10,11,12,13])\n",
        "print(\"Probablity: \", calculate_probability(cards, n=100000000, initial_sum=19))"
      ],
      "execution_count": 10,
      "outputs": [
        {
          "output_type": "display_data",
          "data": {
            "image/png": "[encoded data removed]",
            "text/plain": [
              "<Figure size 432x288 with 1 Axes>"
            ]
          },
          "metadata": {
            "tags": [],
            "needs_background": "light"
          }
        },
        {
          "output_type": "stream",
          "text": [
            "Probablity:  0.08618725\n"
          ],
          "name": "stdout"
        }
      ]
    },
    {
      "cell_type": "markdown",
      "metadata": {
        "id": "-_pG_eAyfEyA",
        "colab_type": "text"
      },
      "source": [
        "# 4. Find remaining decks for Spanish and Poker card decks"
      ]
    },
    {
      "cell_type": "markdown",
      "metadata": {
        "id": "HywO-qW7Ku3r",
        "colab_type": "text"
      },
      "source": [
        "# Hot Deck Probability - SPANISH & POKER\n",
        "**Anatically.**\n",
        "Given [7,7,5] the probability of getting 2, is:\n",
        "\n",
        "1.  Getting one card: 2\n",
        "2.   Getting two cards: 1, 1\n",
        "\n",
        "*   Probabilidad de sacar 2 con dos cartas 1:\n",
        "$ P_{(2)}$ = ${4}\\choose{2}$ / ${12}\\choose{2} $ \n",
        "*   Probabilidad de sacar 2 con una carta 2:\n",
        "$ P_{(2)} =  \\frac{4}{12}  $ \n",
        "*   Probabilidad total:\n",
        "$P_{(2)}= \\frac{4}{12} + \\frac{6}{66} = 0.424242$ \n"
      ]
    },
    {
      "cell_type": "markdown",
      "metadata": {
        "id": "n5EOq_E2jTTH",
        "colab_type": "text"
      },
      "source": [
        "# Cold Deck Probability - SPANISH & POKER\n",
        "**Anatically.**\n",
        "Given [7,7,5] the probability of getting 2, is:\n",
        "\n",
        "1.  Getting one card: 2\n",
        "2.   Getting two cards: 1, 1\n",
        "\n",
        "*   Probabilidad de sacar 2 con dos cartas 1:\n",
        "$ P_{(2)} = \\frac{0}{12}$ \n",
        "*   Probabilidad de sacar 2 con una carta 2:\n",
        "$ P_{(2)} = \\frac{0}{12}$ \n",
        "*   Probabilidad total:\n",
        "$ P_{(2)} = \\frac{0}{12}$ \n"
      ]
    },
    {
      "cell_type": "code",
      "metadata": {
        "id": "L7usWFYGWreD",
        "colab_type": "code",
        "colab": {}
      },
      "source": [
        "hot_deck = [1, 2, 3]*4\n",
        "cold_deck = [10, 11, 12]*4"
      ],
      "execution_count": 11,
      "outputs": []
    },
    {
      "cell_type": "code",
      "metadata": {
        "id": "sNCtXnUmW6ij",
        "colab_type": "code",
        "colab": {
          "base_uri": "https://localhost:8080/",
          "height": 312
        },
        "outputId": "453fa528-f420-43a5-e4b3-2fe4bc3d10be"
      },
      "source": [
        "print(\"Probablity of the hot deck: \", calculate_probability(hot_deck, n=100000000, initial_sum=19))"
      ],
      "execution_count": 12,
      "outputs": [
        {
          "output_type": "display_data",
          "data": {
            "image/png": "[encoded data removed]",
            "text/plain": [
              "<Figure size 432x288 with 1 Axes>"
            ]
          },
          "metadata": {
            "tags": [],
            "needs_background": "light"
          }
        },
        {
          "output_type": "stream",
          "text": [
            "Probablity of the hot deck:  0.42423897\n"
          ],
          "name": "stdout"
        }
      ]
    },
    {
      "cell_type": "code",
      "metadata": {
        "id": "eGsi4smdXE5k",
        "colab_type": "code",
        "colab": {
          "base_uri": "https://localhost:8080/",
          "height": 295
        },
        "outputId": "aae31a77-9b11-4e4e-9f19-b61a26dd2951"
      },
      "source": [
        "print(\"Probablity of the cold deck: \", calculate_probability(cold_deck, n=100000000, initial_sum=19))"
      ],
      "execution_count": 13,
      "outputs": [
        {
          "output_type": "display_data",
          "data": {
            "image/png": "[encoded data removed]",
            "text/plain": [
              "<Figure size 432x288 with 1 Axes>"
            ]
          },
          "metadata": {
            "tags": [],
            "needs_background": "light"
          }
        },
        {
          "output_type": "stream",
          "text": [
            "Probablity of the cold deck:  0.0\n"
          ],
          "name": "stdout"
        }
      ]
    },
    {
      "cell_type": "code",
      "metadata": {
        "id": "8QJbJoiDXx32",
        "colab_type": "code",
        "colab": {}
      },
      "source": [
        "hot_deck = [1,2,3]*4\n",
        "cold_deck = [11,12,13]*4"
      ],
      "execution_count": 14,
      "outputs": []
    },
    {
      "cell_type": "code",
      "metadata": {
        "id": "hxDemGYdX453",
        "colab_type": "code",
        "colab": {
          "base_uri": "https://localhost:8080/",
          "height": 312
        },
        "outputId": "26062795-2558-48b2-8a72-ebc161b8b9d6"
      },
      "source": [
        "print(\"Probablity of the hot deck: \", calculate_probability(hot_deck, n=100000000, initial_sum=19))"
      ],
      "execution_count": 15,
      "outputs": [
        {
          "output_type": "display_data",
          "data": {
            "image/png": "[encoded data removed]",
            "text/plain": [
              "<Figure size 432x288 with 1 Axes>"
            ]
          },
          "metadata": {
            "tags": [],
            "needs_background": "light"
          }
        },
        {
          "output_type": "stream",
          "text": [
            "Probablity of the hot deck:  0.42436393\n"
          ],
          "name": "stdout"
        }
      ]
    },
    {
      "cell_type": "code",
      "metadata": {
        "id": "76NDT9AjX6zv",
        "colab_type": "code",
        "colab": {
          "base_uri": "https://localhost:8080/",
          "height": 295
        },
        "outputId": "0e59a968-975a-4326-d0c3-18292b221102"
      },
      "source": [
        "print(\"Probablity of the cold deck: \", calculate_probability(cold_deck, n=100000000, initial_sum=19))"
      ],
      "execution_count": 16,
      "outputs": [
        {
          "output_type": "display_data",
          "data": {
            "image/png": "[encoded data removed]",
            "text/plain": [
              "<Figure size 432x288 with 1 Axes>"
            ]
          },
          "metadata": {
            "tags": [],
            "needs_background": "light"
          }
        },
        {
          "output_type": "stream",
          "text": [
            "Probablity of the cold deck:  0.0\n"
          ],
          "name": "stdout"
        }
      ]
    },
    {
      "cell_type": "markdown",
      "metadata": {
        "id": "zm8t2v_l89Zy",
        "colab_type": "text"
      },
      "source": [
        "#5. Ben goes to Vegas\n",
        "\n",
        "What is the estimated amount of money that Ben wins or losses on a weekend estimated with 10 million simulations using both the Spanish and Poker card decks?\n"
      ]
    },
    {
      "cell_type": "markdown",
      "metadata": {
        "id": "-X3eK4JUeXMd",
        "colab_type": "text"
      },
      "source": [
        "**Analisis**\n",
        "* It is 30 hours of game every weekend. 3 * 10 = 30 hours\n",
        "* It is equivalent of 1800 minutes. 30 * 60 = 1800 minutes\n",
        "* It is equivalent of 600 games every weekend (the three days). 1800 minutes / 3 minutes per game = 600 games"
      ]
    },
    {
      "cell_type": "code",
      "metadata": {
        "id": "VmwviY64ly4p",
        "colab_type": "code",
        "colab": {}
      },
      "source": [
        "def bet_play(cards, games, initial_sum):\n",
        "  #Cards data\n",
        "  count = 0\n",
        "  cards_distribution = []\n",
        "  min_distribution = 11\n",
        "  max_distribution = 1\n",
        "  average_cards = [] \n",
        "\n",
        "  #Money data\n",
        "  money_bet = 1000\n",
        "  money_earned = 0 \n",
        "\n",
        "  for j in range(n): #Simulating 10 million times\n",
        "    cards_distribution = [] #Every weekend, the cards distribution is resetted\n",
        "    count = 0 #How many times you get 21 in a weekend\n",
        "    for i in range(games): #This loop represents 600 games, which is 1 weekend of gambling\n",
        "      cards_copy = cards.copy()\n",
        "      sum_cards = initial_sum\n",
        "      cards_count = 0\n",
        "      while sum_cards < 21:\n",
        "        choice = r.choice(cards_copy)\n",
        "        cards_copy.remove(choice)\n",
        "        sum_cards += choice\n",
        "        cards_count += 1\n",
        "      if sum_cards == 21:\n",
        "        min_distribution = cards_count if cards_count < min_distribution else min_distribution\n",
        "        max_distribution = cards_count if cards_count > max_distribution else max_distribution\n",
        "        cards_distribution.append(cards_count)\n",
        "        count += 1\n",
        "        money_earned += (money_bet * 12) #Assuming you earn three times what you bet\n",
        "    if count != 0:\n",
        "      average_cards.append( sum(cards_distribution) / count ) #Every weekend you get average cards. This accumulates the averages.\n",
        "    else:\n",
        "      average_cards.append(0)\n",
        "  #print_histogram(cards_distribution, min_distribution, max_distribution)\n",
        "  \n",
        "  return (money_earned / n, average_cards ) #Returns (average of money earned on a weekend, distribution of the average of cards to get 21)"
      ],
      "execution_count": 17,
      "outputs": []
    },
    {
      "cell_type": "code",
      "metadata": {
        "id": "paUm-DrYls7P",
        "colab_type": "code",
        "colab": {}
      },
      "source": [
        "def hist(datos,xlabel,ylabel, color): \n",
        "  plt.hist(datos, bins='auto', facecolor=color)\n",
        "  plt.xlabel = xlabel\n",
        "  plt.ylabel = ylabel\n",
        "  plt.show()"
      ],
      "execution_count": 18,
      "outputs": []
    },
    {
      "cell_type": "markdown",
      "metadata": {
        "id": "-evOA8dcScYO",
        "colab_type": "text"
      },
      "source": [
        "**Hot deck - SPANISH & POKER**"
      ]
    },
    {
      "cell_type": "code",
      "metadata": {
        "id": "4bzSrPg5mHL2",
        "colab_type": "code",
        "colab": {}
      },
      "source": [
        "#Data\n",
        "n = 10000\n",
        "cards = [1, 1, 2, 3, 3, 3, 3, 4, 4, 4, 4, 5] #Assumoing we have a hot deck\n",
        "initial_sum = 19 # Having [7, 7, 5]\n",
        "games_per_weekend = 600\n",
        "money_investedHot = games_per_weekend * 1000"
      ],
      "execution_count": 19,
      "outputs": []
    },
    {
      "cell_type": "code",
      "metadata": {
        "id": "9xoUs1M2hXXB",
        "colab_type": "code",
        "colab": {
          "base_uri": "https://localhost:8080/",
          "height": 85
        },
        "outputId": "df7d0a0f-1332-4e09-b21d-dc0bb1b4bbfc"
      },
      "source": [
        "#Results\n",
        "simulation = bet_play(cards, games_per_weekend, initial_sum) \n",
        "money_earnedHot = simulation[0]\n",
        "distribution = simulation[1]\n",
        "print(\"Money Invested: %d\\nMoney Earned: %d \\nDifference: %d\"%(money_investedHot, money_earnedHot,  money_earnedHot - money_investedHot))\n",
        "print(\"Average cards to get 21: \", sum(distribution) / len(distribution) ) #Sums all averages, divides into number of them. This is:  the average of the averages of cards to get 21"
      ],
      "execution_count": 20,
      "outputs": [
        {
          "output_type": "stream",
          "text": [
            "Money Invested: 600000\n",
            "Money Earned: 708619 \n",
            "Difference: 108619\n",
            "Average cards to get 21:  1.153553101878986\n"
          ],
          "name": "stdout"
        }
      ]
    },
    {
      "cell_type": "code",
      "metadata": {
        "id": "2T277pK5sQjj",
        "colab_type": "code",
        "colab": {
          "base_uri": "https://localhost:8080/",
          "height": 269
        },
        "outputId": "6778a0f5-75c3-4ebd-a5aa-2ed4c3e8807e"
      },
      "source": [
        "#Histogram hot deck\n",
        "xlabel='Número de cartas obtenidas para obtener 21'\n",
        "ylabel='Cantidad de repeticiones'\n",
        "color='blue'\n",
        "hist(distribution, xlabel, ylabel, color)"
      ],
      "execution_count": 21,
      "outputs": [
        {
          "output_type": "display_data",
          "data": {
            "image/png": "[encoded data removed]",
            "text/plain": [
              "<Figure size 432x288 with 1 Axes>"
            ]
          },
          "metadata": {
            "tags": [],
            "needs_background": "light"
          }
        }
      ]
    },
    {
      "cell_type": "markdown",
      "metadata": {
        "id": "ISiF0EJZSqoi",
        "colab_type": "text"
      },
      "source": [
        "**Cold deck SPANISH**"
      ]
    },
    {
      "cell_type": "code",
      "metadata": {
        "id": "1rnzq4ryWYlM",
        "colab_type": "code",
        "colab": {}
      },
      "source": [
        "#Data\n",
        "n = 10000\n",
        "cards = [1, 2, 3, 4, 5, 6, 7, 8, 9, 10, 11, 12] * 4 #Assuming we have a hot deck\n",
        "initial_sum = 0 # Having nothing\n",
        "games_per_weekend = 600\n",
        "money_investedCold = games_per_weekend * 10"
      ],
      "execution_count": 22,
      "outputs": []
    },
    {
      "cell_type": "code",
      "metadata": {
        "id": "Qk42bJjvWhyR",
        "colab_type": "code",
        "colab": {
          "base_uri": "https://localhost:8080/",
          "height": 85
        },
        "outputId": "5cc1acc0-498c-439d-d32b-0824c0959371"
      },
      "source": [
        "#Results\n",
        "simulation = bet_play(cards, games_per_weekend, initial_sum) \n",
        "money_earnedCold = simulation[0]\n",
        "distribution = simulation[1]\n",
        "print(\"Money Invested: %d\\nMoney Earned: %d \\nDifference: %d\"%(money_investedCold, money_earnedCold,  money_earnedCold - money_investedCold))\n",
        "print(\"Average cards to get 21: \", sum(distribution) / len(distribution) ) #Sums all averages, divides into number of them. This is:  the average of the averages of cards to get 21"
      ],
      "execution_count": 23,
      "outputs": [
        {
          "output_type": "stream",
          "text": [
            "Money Invested: 6000\n",
            "Money Earned: 1134916 \n",
            "Difference: 1128916\n",
            "Average cards to get 21:  3.415280688076125\n"
          ],
          "name": "stdout"
        }
      ]
    },
    {
      "cell_type": "code",
      "metadata": {
        "id": "6vk-hou6dqOD",
        "colab_type": "code",
        "colab": {
          "base_uri": "https://localhost:8080/",
          "height": 265
        },
        "outputId": "b3397709-861b-4603-e3f9-531210e13fd6"
      },
      "source": [
        "#Histogram cold deck\n",
        "xlabel='Número de cartas obtenidas para obtener 21'\n",
        "ylabel='Cantidad de repeticiones'\n",
        "color='blue'\n",
        "hist(distribution, xlabel, ylabel, color)"
      ],
      "execution_count": 24,
      "outputs": [
        {
          "output_type": "display_data",
          "data": {
            "image/png": "[encoded data removed]",
            "text/plain": [
              "<Figure size 432x288 with 1 Axes>"
            ]
          },
          "metadata": {
            "tags": [],
            "needs_background": "light"
          }
        }
      ]
    },
    {
      "cell_type": "markdown",
      "metadata": {
        "id": "G4eMgJZXr8zC",
        "colab_type": "text"
      },
      "source": [
        "**Cold deck POKER**"
      ]
    },
    {
      "cell_type": "code",
      "metadata": {
        "id": "QjftOempspTs",
        "colab_type": "code",
        "colab": {}
      },
      "source": [
        "#Data\n",
        "n = 10000\n",
        "cards = [1, 2, 3, 4, 5, 6, 7, 8, 9, 10, 11, 12, 13] * 4 #Assuming we have a hot deck\n",
        "initial_sum = 0 # Having nothing\n",
        "games_per_weekend = 600\n",
        "money_investedCold = games_per_weekend * 10"
      ],
      "execution_count": 25,
      "outputs": []
    },
    {
      "cell_type": "code",
      "metadata": {
        "id": "77Im0HHMswkT",
        "colab_type": "code",
        "colab": {
          "base_uri": "https://localhost:8080/",
          "height": 85
        },
        "outputId": "71b4668e-71b2-4ae4-9ce0-b8421a510b99"
      },
      "source": [
        "#Results\n",
        "simulation = bet_play(cards, games_per_weekend, initial_sum) \n",
        "money_earnedCold = simulation[0]\n",
        "distribution = simulation[1]\n",
        "print(\"Money Invested: %d\\nMoney Earned: %d \\nDifference: %d\"%(money_investedCold, money_earnedCold,  money_earnedCold - money_investedCold))\n",
        "print(\"Average cards to get 21: \", sum(distribution) / len(distribution) ) #Sums all averages, divides into number of them. This is:  the average of the averages of cards to get 21"
      ],
      "execution_count": 26,
      "outputs": [
        {
          "output_type": "stream",
          "text": [
            "Money Invested: 6000\n",
            "Money Earned: 1040989 \n",
            "Difference: 1034989\n",
            "Average cards to get 21:  3.215273097076776\n"
          ],
          "name": "stdout"
        }
      ]
    },
    {
      "cell_type": "code",
      "metadata": {
        "id": "1rVy4FDitBJ1",
        "colab_type": "code",
        "colab": {
          "base_uri": "https://localhost:8080/",
          "height": 265
        },
        "outputId": "2f66673d-8dde-470d-9a08-97f6e6f62fee"
      },
      "source": [
        "#Histogram cold deck\n",
        "xlabel='Número de cartas obtenidas para obtener 21'\n",
        "ylabel='Cantidad de repeticiones'\n",
        "color='blue'\n",
        "hist(distribution, xlabel, ylabel, color)"
      ],
      "execution_count": 27,
      "outputs": [
        {
          "output_type": "display_data",
          "data": {
            "image/png": "[encoded data removed]",
            "text/plain": [
              "<Figure size 432x288 with 1 Axes>"
            ]
          },
          "metadata": {
            "tags": [],
            "needs_background": "light"
          }
        }
      ]
    },
    {
      "cell_type": "markdown",
      "metadata": {
        "id": "lS3PEkF2iFRS",
        "colab_type": "text"
      },
      "source": [
        "**Summary**\n",
        "Net money earned"
      ]
    },
    {
      "cell_type": "code",
      "metadata": {
        "id": "dgvcivcsiDRL",
        "colab_type": "code",
        "colab": {
          "base_uri": "https://localhost:8080/",
          "height": 34
        },
        "outputId": "c5c0d28b-5753-45d2-91a7-61dc3608cd89"
      },
      "source": [
        "#Hot decks and cold decks\n",
        "totalAmountEarned = money_earnedHot + money_earnedCold\n",
        "totalInvested = money_investedHot + money_investedCold\n",
        "net = totalAmountEarned - totalInvested\n",
        "print(\"Net money Ben earned: $\", net)"
      ],
      "execution_count": 28,
      "outputs": [
        {
          "output_type": "stream",
          "text": [
            "Net money Ben earned: $ 1143608.4\n"
          ],
          "name": "stdout"
        }
      ]
    },
    {
      "cell_type": "markdown",
      "metadata": {
        "id": "maZUDRfZlxuu",
        "colab_type": "text"
      },
      "source": [
        "**Results**\n",
        "\n",
        "\n",
        "*   Money Invested: $1000 per game on hot decks\n",
        "*   Money Earned on 1 weekend\n",
        "*   Earnning: Difference between invested and earned\n",
        "\n"
      ]
    },
    {
      "cell_type": "markdown",
      "metadata": {
        "id": "GVqJCMHciwJf",
        "colab_type": "text"
      },
      "source": [
        "# 6. Extra credits"
      ]
    },
    {
      "cell_type": "code",
      "metadata": {
        "id": "bL3GHGNFxN3Q",
        "colab_type": "code",
        "colab": {}
      },
      "source": [
        "#Data\n",
        "n = 10000\n",
        "initial_sum = 19\n",
        "games_per_weekend = 600\n",
        "money_investedCold = games_per_weekend * 1000"
      ],
      "execution_count": 29,
      "outputs": []
    },
    {
      "cell_type": "code",
      "metadata": {
        "id": "86D4hENBxHbP",
        "colab_type": "code",
        "colab": {
          "base_uri": "https://localhost:8080/",
          "height": 333
        },
        "outputId": "5d8e236f-0d20-4946-d3b8-b631d1071cfa"
      },
      "source": [
        "# Hot deck for 8 cards\n",
        "cards = [1,2]*4\n",
        "#Results\n",
        "simulation = bet_play(cards, games_per_weekend, initial_sum) \n",
        "money_earnedCold = simulation[0]\n",
        "distribution = simulation[1]\n",
        "print(\"Money Invested: %d\\nMoney Earned: %d \\nDifference: %d\"%(money_investedCold, money_earnedCold,  money_earnedCold - money_investedCold))\n",
        "print(\"Average cards to get 21: \", sum(distribution) / len(distribution) ) #Sums all averages, divides into number of them. This is:  the average of the averages of cards to get 21\n",
        "#Histogram cold deck\n",
        "xlabel='Número de cartas obtenidas para obtener 21'\n",
        "ylabel='Cantidad de repeticiones'\n",
        "color='blue'\n",
        "hist(distribution, xlabel, ylabel, color)"
      ],
      "execution_count": 30,
      "outputs": [
        {
          "output_type": "stream",
          "text": [
            "Money Invested: 600000\n",
            "Money Earned: 5143425 \n",
            "Difference: 4543425\n",
            "Average cards to get 21:  1.2998403488343673\n"
          ],
          "name": "stdout"
        },
        {
          "output_type": "display_data",
          "data": {
            "image/png": "[encoded data removed]",
            "text/plain": [
              "<Figure size 432x288 with 1 Axes>"
            ]
          },
          "metadata": {
            "tags": [],
            "needs_background": "light"
          }
        }
      ]
    },
    {
      "cell_type": "code",
      "metadata": {
        "id": "t-LD-H2ZcVA7",
        "colab_type": "code",
        "colab": {
          "base_uri": "https://localhost:8080/",
          "height": 333
        },
        "outputId": "8051fff0-fe2e-44d7-c52c-adf24e6d2497"
      },
      "source": [
        "# Hot deck for 10 cards\n",
        "cards = [1,2]*4 + [3,3]\n",
        "#Results\n",
        "simulation = bet_play(cards, games_per_weekend, initial_sum) \n",
        "money_earnedCold = simulation[0]\n",
        "distribution = simulation[1]\n",
        "print(\"Money Invested: %d\\nMoney Earned: %d \\nDifference: %d\"%(money_investedCold, money_earnedCold,  money_earnedCold - money_investedCold))\n",
        "print(\"Average cards to get 21: \", sum(distribution) / len(distribution) ) #Sums all averages, divides into number of them. This is:  the average of the averages of cards to get 21\n",
        "#Histogram cold deck\n",
        "xlabel='Número de cartas obtenidas para obtener 21'\n",
        "ylabel='Cantidad de repeticiones'\n",
        "color='blue'\n",
        "hist(distribution, xlabel, ylabel, color)"
      ],
      "execution_count": 31,
      "outputs": [
        {
          "output_type": "stream",
          "text": [
            "Money Invested: 600000\n",
            "Money Earned: 3840445 \n",
            "Difference: 3240445\n",
            "Average cards to get 21:  1.2501274892039298\n"
          ],
          "name": "stdout"
        },
        {
          "output_type": "display_data",
          "data": {
            "image/png": "[encoded data removed]",
            "text/plain": [
              "<Figure size 432x288 with 1 Axes>"
            ]
          },
          "metadata": {
            "tags": [],
            "needs_background": "light"
          }
        }
      ]
    },
    {
      "cell_type": "code",
      "metadata": {
        "id": "JdN4LtZ8cx7o",
        "colab_type": "code",
        "colab": {
          "base_uri": "https://localhost:8080/",
          "height": 333
        },
        "outputId": "ff5c068a-e491-47d7-8e75-aa8d5c1b213b"
      },
      "source": [
        "# Hot deck for 12 cards\n",
        "cards = [1,2,3]*4\n",
        "#Results\n",
        "simulation = bet_play(cards, games_per_weekend, initial_sum) \n",
        "money_earnedCold = simulation[0]\n",
        "distribution = simulation[1]\n",
        "print(\"Money Invested: %d\\nMoney Earned: %d \\nDifference: %d\"%(money_investedCold, money_earnedCold,  money_earnedCold - money_investedCold))\n",
        "print(\"Average cards to get 21: \", sum(distribution) / len(distribution) ) #Sums all averages, divides into number of them. This is:  the average of the averages of cards to get 21\n",
        "#Histogram cold deck\n",
        "xlabel='Número de cartas obtenidas para obtener 21'\n",
        "ylabel='Cantidad de repeticiones'\n",
        "color='blue'\n",
        "hist(distribution, xlabel, ylabel, color)"
      ],
      "execution_count": 32,
      "outputs": [
        {
          "output_type": "stream",
          "text": [
            "Money Invested: 600000\n",
            "Money Earned: 3055456 \n",
            "Difference: 2455456\n",
            "Average cards to get 21:  1.2143650957950818\n"
          ],
          "name": "stdout"
        },
        {
          "output_type": "display_data",
          "data": {
            "image/png": "[encoded data removed]",
            "text/plain": [
              "<Figure size 432x288 with 1 Axes>"
            ]
          },
          "metadata": {
            "tags": [],
            "needs_background": "light"
          }
        }
      ]
    }
  ]
}