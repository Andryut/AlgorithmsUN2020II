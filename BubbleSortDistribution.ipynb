{
  "nbformat": 4,
  "nbformat_minor": 0,
  "metadata": {
    "colab": {
      "name": "BubbleSortDistribution.ipynb",
      "provenance": []
    },
    "kernelspec": {
      "name": "python3",
      "display_name": "Python 3"
    }
  },
  "cells": [
    {
      "cell_type": "code",
      "metadata": {
        "id": "HO5AL1zYkNpF"
      },
      "source": [
        "from itertools import permutations\n",
        "import matplotlib.pyplot as plt\n",
        "\n",
        "def bubble_sort(array):\n",
        "  flag = False\n",
        "  total = 0\n",
        "  for i in range(len(array)):\n",
        "    if flag : break\n",
        "    flag = True\n",
        "    for j in range(len(array) - i - 1):\n",
        "      if array[j] > array[j + 1] :\n",
        "        total += 1\n",
        "        flag = False\n",
        "        array[j], array[j + 1] = array[j + 1], array[j]\n",
        "  return total\n",
        "\n",
        "def calculate_distribution(n):\n",
        "  dist = []\n",
        "  max = 0\n",
        "  for i in range(n*n):\n",
        "    dist.append(0)\n",
        "  for p in permutations(list(range(1, n + 1))):\n",
        "    steps = bubble_sort(list(p))\n",
        "    if steps > max : max = steps\n",
        "    dist[steps] += 1\n",
        "  return dist[:max + 1]"
      ],
      "execution_count": 21,
      "outputs": []
    },
    {
      "cell_type": "code",
      "metadata": {
        "colab": {
          "base_uri": "https://localhost:8080/",
          "height": 282
        },
        "id": "xKiwTI_WmQzA",
        "outputId": "ecf9db9b-1a14-4620-eb9a-d92a61bbbc6a"
      },
      "source": [
        "n = 3\n",
        "dist = calculate_distribution(n)\n",
        "print(dist)\n",
        "plt.bar(list(range(len(dist))), dist, 0.95, align='edge')\n",
        "plt.show()"
      ],
      "execution_count": 37,
      "outputs": [
        {
          "output_type": "stream",
          "text": [
            "[1, 2, 2, 1]\n"
          ],
          "name": "stdout"
        },
        {
          "output_type": "display_data",
          "data": {
            "image/png": "[encoded data removed]",
            "text/plain": [
              "<Figure size 432x288 with 1 Axes>"
            ]
          },
          "metadata": {
            "tags": [],
            "needs_background": "light"
          }
        }
      ]
    },
    {
      "cell_type": "code",
      "metadata": {
        "colab": {
          "base_uri": "https://localhost:8080/",
          "height": 282
        },
        "id": "NKypQVjHpuKr",
        "outputId": "02f16429-c11e-4f1d-ab48-66860dcbbc12"
      },
      "source": [
        "n = 4\n",
        "dist = calculate_distribution(n)\n",
        "print(dist)\n",
        "plt.bar(list(range(len(dist))), dist, 0.95, align='edge')\n",
        "plt.show()"
      ],
      "execution_count": 38,
      "outputs": [
        {
          "output_type": "stream",
          "text": [
            "[1, 3, 5, 6, 5, 3, 1]\n"
          ],
          "name": "stdout"
        },
        {
          "output_type": "display_data",
          "data": {
            "image/png": "[encoded data removed]",
            "text/plain": [
              "<Figure size 432x288 with 1 Axes>"
            ]
          },
          "metadata": {
            "tags": [],
            "needs_background": "light"
          }
        }
      ]
    },
    {
      "cell_type": "code",
      "metadata": {
        "colab": {
          "base_uri": "https://localhost:8080/",
          "height": 282
        },
        "id": "yZ3XzpxOsCqp",
        "outputId": "8854bae8-f920-4e47-9789-39aed9df050d"
      },
      "source": [
        "n = 5\n",
        "dist = calculate_distribution(n)\n",
        "print(dist)\n",
        "plt.bar(list(range(len(dist))), dist, 0.95, align='edge')\n",
        "plt.show()"
      ],
      "execution_count": 39,
      "outputs": [
        {
          "output_type": "stream",
          "text": [
            "[1, 4, 9, 15, 20, 22, 20, 15, 9, 4, 1]\n"
          ],
          "name": "stdout"
        },
        {
          "output_type": "display_data",
          "data": {
            "image/png": "[encoded data removed]",
            "text/plain": [
              "<Figure size 432x288 with 1 Axes>"
            ]
          },
          "metadata": {
            "tags": [],
            "needs_background": "light"
          }
        }
      ]
    },
    {
      "cell_type": "code",
      "metadata": {
        "colab": {
          "base_uri": "https://localhost:8080/",
          "height": 302
        },
        "id": "IUVrX0TLsOnv",
        "outputId": "d5d102b7-cdb5-4268-e8c2-f44f6d473d31"
      },
      "source": [
        "n = 10\n",
        "dist = calculate_distribution(n)\n",
        "print(dist)\n",
        "plt.bar(list(range(len(dist))), dist, 0.95, align='edge')\n",
        "plt.show()"
      ],
      "execution_count": 41,
      "outputs": [
        {
          "output_type": "stream",
          "text": [
            "[1, 9, 44, 155, 440, 1068, 2298, 4489, 8095, 13640, 21670, 32683, 47043, 64889, 86054, 110010, 135853, 162337, 187959, 211089, 230131, 243694, 250749, 250749, 243694, 230131, 211089, 187959, 162337, 135853, 110010, 86054, 64889, 47043, 32683, 21670, 13640, 8095, 4489, 2298, 1068, 440, 155, 44, 9, 1]\n"
          ],
          "name": "stdout"
        },
        {
          "output_type": "display_data",
          "data": {
            "image/png": "[encoded data removed]",
            "text/plain": [
              "<Figure size 432x288 with 1 Axes>"
            ]
          },
          "metadata": {
            "tags": [],
            "needs_background": "light"
          }
        }
      ]
    }
  ]
}