{
  "nbformat": 4,
  "nbformat_minor": 0,
  "metadata": {
    "colab": {
      "name": "FibonacciTime.ipynb",
      "provenance": []
    },
    "kernelspec": {
      "name": "python3",
      "display_name": "Python 3"
    }
  },
  "cells": [
    {
      "cell_type": "code",
      "metadata": {
        "id": "kNsYJ2ujsm_r"
      },
      "source": [
        "import matplotlib.pyplot as plt\n",
        "import matplotlib.patches as mpatches\n",
        "\n",
        "def fib_recursive_calls_steps(n):\n",
        "  calls = [0, 0]\n",
        "  for i in range(2,n + 1):\n",
        "    calls.append(calls[i - 1] + calls[i - 2] + 2)\n",
        "  return calls\n",
        "\n",
        "def fib_recursive_operations_steps(n):\n",
        "  calls = [0, 0]\n",
        "  for i in range(2,n + 1):\n",
        "    calls.append(calls[i - 1] + calls[i - 2] + 1)\n",
        "  return calls\n",
        "\n",
        "def fib_iterative_operations_steps(n):\n",
        "  operations = [0, 0]\n",
        "  for i in range(2, n + 1):\n",
        "    operations.append(operations[i - 1] + 1)\n",
        "  return operations\n"
      ],
      "execution_count": 1,
      "outputs": []
    },
    {
      "cell_type": "code",
      "metadata": {
        "id": "aNVShaPjvD91"
      },
      "source": [
        "n = 50\n",
        "frcs = fib_recursive_calls_steps(n)\n",
        "fros = fib_recursive_operations_steps(n)"
      ],
      "execution_count": 2,
      "outputs": []
    },
    {
      "cell_type": "code",
      "metadata": {
        "id": "bPFWp2r4vG53"
      },
      "source": [
        "n = 500\n",
        "fios = fib_iterative_operations_steps(n)"
      ],
      "execution_count": 3,
      "outputs": []
    },
    {
      "cell_type": "code",
      "metadata": {
        "colab": {
          "base_uri": "https://localhost:8080/",
          "height": 295
        },
        "id": "jH-QdGGH3zMy",
        "outputId": "26fabf3c-650a-4492-c72b-423519b4caa4"
      },
      "source": [
        "plt.plot([i for i in range(51)], frcs, 'r.', [i for i in range(51)], fros, 'b.', [i for i in range(501)], fios, 'g.')\n",
        "red = mpatches.Patch(color='r', label='recursive calls')\n",
        "blue = mpatches.Patch(color='b', label='recursive operations')\n",
        "green = mpatches.Patch(color='g', label='iterative operations')\n",
        "\n",
        "plt.legend(handles=[red, blue, green])\n",
        "plt.xlabel('n')\n",
        "plt.title('Comparative')\n",
        "plt.show()"
      ],
      "execution_count": 4,
      "outputs": [
        {
          "output_type": "display_data",
          "data": {
            "image/png": "[encoded data removed]",
            "text/plain": [
              "<Figure size 432x288 with 1 Axes>"
            ]
          },
          "metadata": {
            "tags": [],
            "needs_background": "light"
          }
        }
      ]
    },
    {
      "cell_type": "code",
      "metadata": {
        "id": "RdAgcPXKCMcZ"
      },
      "source": [
        ""
      ],
      "execution_count": 4,
      "outputs": []
    }
  ]
}